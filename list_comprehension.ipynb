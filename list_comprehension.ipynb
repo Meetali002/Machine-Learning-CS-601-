{
  "nbformat": 4,
  "nbformat_minor": 0,
  "metadata": {
    "colab": {
      "name": "list comprehension.ipynb",
      "provenance": [],
      "authorship_tag": "ABX9TyP7Zl3tY3gJ+CkkX3KNOiul",
      "include_colab_link": true
    },
    "kernelspec": {
      "name": "python3",
      "display_name": "Python 3"
    },
    "language_info": {
      "name": "python"
    }
  },
  "cells": [
    {
      "cell_type": "markdown",
      "metadata": {
        "id": "view-in-github",
        "colab_type": "text"
      },
      "source": [
        "<a href=\"https://colab.research.google.com/github/Meetali002/Machine-Learning-CS-601-/blob/main/list_comprehension.ipynb\" target=\"_parent\"><img src=\"https://colab.research.google.com/assets/colab-badge.svg\" alt=\"Open In Colab\"/></a>"
      ]
    },
    {
      "cell_type": "code",
      "execution_count": 2,
      "metadata": {
        "colab": {
          "base_uri": "https://localhost:8080/"
        },
        "id": "bQ1vrcp9NM_6",
        "outputId": "feb21b52-5bc5-458b-fd6c-1e92c39bf021"
      },
      "outputs": [
        {
          "output_type": "execute_result",
          "data": {
            "text/plain": [
              "[(0, 'hi'), (1, 1.29), (2, 3), (3, 4), (4, (0.1, 'hi'))]"
            ]
          },
          "metadata": {},
          "execution_count": 2
        }
      ],
      "source": [
        "#Get the index and value at the tuple for items in the list.\n",
        "items=['hi', 1.29,3,4,(0.1,'hi')]\n",
        "[(index,value) for index,value in enumerate (items)]\n"
      ]
    },
    {
      "cell_type": "code",
      "source": [
        "#Find the common numbers in the list using list comprehension.\n",
        "l1=[1,2,3,4,5,6]\n",
        "l2=[3,4,5,6,7,8,9]\n",
        "[i for i in l1 for j in l2 if i==j]"
      ],
      "metadata": {
        "colab": {
          "base_uri": "https://localhost:8080/"
        },
        "id": "aUovP316Oxxt",
        "outputId": "cc155732-23fd-4125-a599-1e31543a0740"
      },
      "execution_count": 5,
      "outputs": [
        {
          "output_type": "execute_result",
          "data": {
            "text/plain": [
              "[3, 4, 5, 6]"
            ]
          },
          "metadata": {},
          "execution_count": 5
        }
      ]
    },
    {
      "cell_type": "code",
      "source": [
        "#S=\"I love my nation. \" Count number of letters.\n",
        "S=\"I love my nation. \"\n",
        "l1=[i for i in S if i!=' ']\n",
        "print (len(l1))"
      ],
      "metadata": {
        "colab": {
          "base_uri": "https://localhost:8080/"
        },
        "id": "KPBC7ZjsP9nG",
        "outputId": "d14c7965-0005-4116-92da-35ea169a2d48"
      },
      "execution_count": 11,
      "outputs": [
        {
          "output_type": "stream",
          "name": "stdout",
          "text": [
            "14\n"
          ]
        }
      ]
    },
    {
      "cell_type": "code",
      "source": [
        "# S= \"This is CSIT 1984 60\".Count the number of words which are not alpha numeric.\n",
        "S= \"This is CSIT 1984 60\"\n",
        "i=S.split()\n",
        "[j for j in i if not j.isalpha()]"
      ],
      "metadata": {
        "colab": {
          "base_uri": "https://localhost:8080/"
        },
        "id": "64CWlZ7nRLb2",
        "outputId": "205670ba-1b95-495f-d4d3-b4d9fcadb2ce"
      },
      "execution_count": 9,
      "outputs": [
        {
          "output_type": "execute_result",
          "data": {
            "text/plain": [
              "['1984', '60']"
            ]
          },
          "metadata": {},
          "execution_count": 9
        }
      ]
    },
    {
      "cell_type": "code",
      "source": [
        "#S=\"I love my nation. \" Count number of words.\n",
        "S=\"I love my nation. \"\n",
        "i=S.split()\n",
        "[j for j in i]"
      ],
      "metadata": {
        "colab": {
          "base_uri": "https://localhost:8080/"
        },
        "id": "6DXHK024QvZG",
        "outputId": "8faac7e1-35af-4ca4-d095-a48694c5e841"
      },
      "execution_count": 7,
      "outputs": [
        {
          "output_type": "execute_result",
          "data": {
            "text/plain": [
              "['I', 'love', 'my', 'nation.']"
            ]
          },
          "metadata": {},
          "execution_count": 7
        }
      ]
    },
    {
      "cell_type": "code",
      "source": [
        "#Count the number of words having character greater than 4.\n",
        "S=\" I am from Dewas\"\n",
        "i=S.split()\n",
        "[j for j in S.split() if j.isalpha() and len(j)>=4]"
      ],
      "metadata": {
        "colab": {
          "base_uri": "https://localhost:8080/"
        },
        "id": "zTpYQx5lS1ES",
        "outputId": "2a01cc4c-3fad-409d-8dad-c28554866e70"
      },
      "execution_count": 13,
      "outputs": [
        {
          "output_type": "execute_result",
          "data": {
            "text/plain": [
              "['from', 'Dewas']"
            ]
          },
          "metadata": {},
          "execution_count": 13
        }
      ]
    },
    {
      "cell_type": "code",
      "source": [
        "#Use a nested list comprehension to find all the numbers in range 1-100, that are divisible by any digit or number between 2-9\n",
        "[ i for j in range (2,10) for i in range(1,101) if i%j==0]     \n"
      ],
      "metadata": {
        "colab": {
          "base_uri": "https://localhost:8080/"
        },
        "id": "SE1ck2I3UNsr",
        "outputId": "4da94a4d-8ccf-4af5-9dec-095b60d3ff19"
      },
      "execution_count": 15,
      "outputs": [
        {
          "output_type": "execute_result",
          "data": {
            "text/plain": [
              "[2,\n",
              " 4,\n",
              " 6,\n",
              " 8,\n",
              " 10,\n",
              " 12,\n",
              " 14,\n",
              " 16,\n",
              " 18,\n",
              " 20,\n",
              " 22,\n",
              " 24,\n",
              " 26,\n",
              " 28,\n",
              " 30,\n",
              " 32,\n",
              " 34,\n",
              " 36,\n",
              " 38,\n",
              " 40,\n",
              " 42,\n",
              " 44,\n",
              " 46,\n",
              " 48,\n",
              " 50,\n",
              " 52,\n",
              " 54,\n",
              " 56,\n",
              " 58,\n",
              " 60,\n",
              " 62,\n",
              " 64,\n",
              " 66,\n",
              " 68,\n",
              " 70,\n",
              " 72,\n",
              " 74,\n",
              " 76,\n",
              " 78,\n",
              " 80,\n",
              " 82,\n",
              " 84,\n",
              " 86,\n",
              " 88,\n",
              " 90,\n",
              " 92,\n",
              " 94,\n",
              " 96,\n",
              " 98,\n",
              " 100,\n",
              " 3,\n",
              " 6,\n",
              " 9,\n",
              " 12,\n",
              " 15,\n",
              " 18,\n",
              " 21,\n",
              " 24,\n",
              " 27,\n",
              " 30,\n",
              " 33,\n",
              " 36,\n",
              " 39,\n",
              " 42,\n",
              " 45,\n",
              " 48,\n",
              " 51,\n",
              " 54,\n",
              " 57,\n",
              " 60,\n",
              " 63,\n",
              " 66,\n",
              " 69,\n",
              " 72,\n",
              " 75,\n",
              " 78,\n",
              " 81,\n",
              " 84,\n",
              " 87,\n",
              " 90,\n",
              " 93,\n",
              " 96,\n",
              " 99,\n",
              " 4,\n",
              " 8,\n",
              " 12,\n",
              " 16,\n",
              " 20,\n",
              " 24,\n",
              " 28,\n",
              " 32,\n",
              " 36,\n",
              " 40,\n",
              " 44,\n",
              " 48,\n",
              " 52,\n",
              " 56,\n",
              " 60,\n",
              " 64,\n",
              " 68,\n",
              " 72,\n",
              " 76,\n",
              " 80,\n",
              " 84,\n",
              " 88,\n",
              " 92,\n",
              " 96,\n",
              " 100,\n",
              " 5,\n",
              " 10,\n",
              " 15,\n",
              " 20,\n",
              " 25,\n",
              " 30,\n",
              " 35,\n",
              " 40,\n",
              " 45,\n",
              " 50,\n",
              " 55,\n",
              " 60,\n",
              " 65,\n",
              " 70,\n",
              " 75,\n",
              " 80,\n",
              " 85,\n",
              " 90,\n",
              " 95,\n",
              " 100,\n",
              " 6,\n",
              " 12,\n",
              " 18,\n",
              " 24,\n",
              " 30,\n",
              " 36,\n",
              " 42,\n",
              " 48,\n",
              " 54,\n",
              " 60,\n",
              " 66,\n",
              " 72,\n",
              " 78,\n",
              " 84,\n",
              " 90,\n",
              " 96,\n",
              " 7,\n",
              " 14,\n",
              " 21,\n",
              " 28,\n",
              " 35,\n",
              " 42,\n",
              " 49,\n",
              " 56,\n",
              " 63,\n",
              " 70,\n",
              " 77,\n",
              " 84,\n",
              " 91,\n",
              " 98,\n",
              " 8,\n",
              " 16,\n",
              " 24,\n",
              " 32,\n",
              " 40,\n",
              " 48,\n",
              " 56,\n",
              " 64,\n",
              " 72,\n",
              " 80,\n",
              " 88,\n",
              " 96,\n",
              " 9,\n",
              " 18,\n",
              " 27,\n",
              " 36,\n",
              " 45,\n",
              " 54,\n",
              " 63,\n",
              " 72,\n",
              " 81,\n",
              " 90,\n",
              " 99]"
            ]
          },
          "metadata": {},
          "execution_count": 15
        }
      ]
    }
  ]
}